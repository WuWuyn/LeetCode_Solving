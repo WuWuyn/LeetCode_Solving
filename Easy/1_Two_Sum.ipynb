{
 "cells": [
  {
   "cell_type": "markdown",
   "id": "25ba38d5-0d5e-48da-8a7c-2cd8fb56f54f",
   "metadata": {},
   "source": [
    "### Method 1: Time complexity $O(n^2)$"
   ]
  },
  {
   "cell_type": "code",
   "execution_count": 15,
   "id": "c20ad9f0-4f9f-4460-8afb-17deac70b9dc",
   "metadata": {},
   "outputs": [],
   "source": [
    "class Solution:\n",
    "    def twoSum(self, nums: [int], target: int) -> [int]:\n",
    "        for i1 in range(len(nums)):\n",
    "            for i2 in range(i1+1,len(nums)):\n",
    "                if(nums[i1]+nums[i2]) == target: return [i1,i2]"
   ]
  },
  {
   "cell_type": "markdown",
   "id": "5ce97cfa-be79-4dff-b909-5973a7d6ca9c",
   "metadata": {},
   "source": [
    "### Method 2: Time complexity $O(n)$"
   ]
  },
  {
   "cell_type": "code",
   "execution_count": null,
   "id": "71f142bd-c955-465f-8154-431269d9f89e",
   "metadata": {},
   "outputs": [],
   "source": [
    "class Solution:\n",
    "    def twoSum(self, nums: [int], target: int) -> [int]:\n",
    "        "
   ]
  },
  {
   "cell_type": "code",
   "execution_count": 16,
   "id": "2e5d114d-5067-44e0-9c35-af139c7b2077",
   "metadata": {},
   "outputs": [],
   "source": [
    "solution = Solution()\n",
    "\n",
    "assert solution.twoSum([2,7,11,15],9) == [0,1]\n",
    "#Explanation: Because nums[0] + nums[1] == 9, we return [0, 1].\n",
    "\n",
    "assert solution.twoSum([3,2,4],6) == [1,2]\n",
    "\n",
    "assert solution.twoSum([3,3],6) == [0,1]"
   ]
  }
 ],
 "metadata": {
  "kernelspec": {
   "display_name": "Python 3 (ipykernel)",
   "language": "python",
   "name": "python3"
  },
  "language_info": {
   "codemirror_mode": {
    "name": "ipython",
    "version": 3
   },
   "file_extension": ".py",
   "mimetype": "text/x-python",
   "name": "python",
   "nbconvert_exporter": "python",
   "pygments_lexer": "ipython3",
   "version": "3.12.5"
  }
 },
 "nbformat": 4,
 "nbformat_minor": 5
}
